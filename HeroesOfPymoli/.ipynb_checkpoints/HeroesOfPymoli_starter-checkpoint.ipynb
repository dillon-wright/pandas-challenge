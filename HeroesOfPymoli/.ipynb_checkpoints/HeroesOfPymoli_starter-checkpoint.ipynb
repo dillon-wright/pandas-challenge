{
 "cells": [
  {
   "cell_type": "markdown",
   "metadata": {},
   "source": [
    "### Note\n",
    "* Instructions have been included for each segment. You do not have to follow them exactly, but they are included to help you think through the steps."
   ]
  },
  {
   "cell_type": "code",
   "execution_count": 1,
   "metadata": {},
   "outputs": [
    {
     "data": {
      "text/html": [
       "<style  type=\"text/css\" >\n",
       "#T_d6107b16_c458_11eb_9521_18c04d314041row0_col0,#T_d6107b16_c458_11eb_9521_18c04d314041row0_col1,#T_d6107b16_c458_11eb_9521_18c04d314041row0_col2,#T_d6107b16_c458_11eb_9521_18c04d314041row0_col3,#T_d6107b16_c458_11eb_9521_18c04d314041row0_col4,#T_d6107b16_c458_11eb_9521_18c04d314041row0_col5,#T_d6107b16_c458_11eb_9521_18c04d314041row0_col6,#T_d6107b16_c458_11eb_9521_18c04d314041row1_col0,#T_d6107b16_c458_11eb_9521_18c04d314041row1_col1,#T_d6107b16_c458_11eb_9521_18c04d314041row1_col2,#T_d6107b16_c458_11eb_9521_18c04d314041row1_col3,#T_d6107b16_c458_11eb_9521_18c04d314041row1_col4,#T_d6107b16_c458_11eb_9521_18c04d314041row1_col5,#T_d6107b16_c458_11eb_9521_18c04d314041row1_col6,#T_d6107b16_c458_11eb_9521_18c04d314041row2_col0,#T_d6107b16_c458_11eb_9521_18c04d314041row2_col1,#T_d6107b16_c458_11eb_9521_18c04d314041row2_col2,#T_d6107b16_c458_11eb_9521_18c04d314041row2_col3,#T_d6107b16_c458_11eb_9521_18c04d314041row2_col4,#T_d6107b16_c458_11eb_9521_18c04d314041row2_col5,#T_d6107b16_c458_11eb_9521_18c04d314041row2_col6,#T_d6107b16_c458_11eb_9521_18c04d314041row3_col0,#T_d6107b16_c458_11eb_9521_18c04d314041row3_col1,#T_d6107b16_c458_11eb_9521_18c04d314041row3_col2,#T_d6107b16_c458_11eb_9521_18c04d314041row3_col3,#T_d6107b16_c458_11eb_9521_18c04d314041row3_col4,#T_d6107b16_c458_11eb_9521_18c04d314041row3_col5,#T_d6107b16_c458_11eb_9521_18c04d314041row3_col6,#T_d6107b16_c458_11eb_9521_18c04d314041row4_col0,#T_d6107b16_c458_11eb_9521_18c04d314041row4_col1,#T_d6107b16_c458_11eb_9521_18c04d314041row4_col2,#T_d6107b16_c458_11eb_9521_18c04d314041row4_col3,#T_d6107b16_c458_11eb_9521_18c04d314041row4_col4,#T_d6107b16_c458_11eb_9521_18c04d314041row4_col5,#T_d6107b16_c458_11eb_9521_18c04d314041row4_col6,#T_d6107b16_c458_11eb_9521_18c04d314041row5_col0,#T_d6107b16_c458_11eb_9521_18c04d314041row5_col1,#T_d6107b16_c458_11eb_9521_18c04d314041row5_col2,#T_d6107b16_c458_11eb_9521_18c04d314041row5_col3,#T_d6107b16_c458_11eb_9521_18c04d314041row5_col4,#T_d6107b16_c458_11eb_9521_18c04d314041row5_col5,#T_d6107b16_c458_11eb_9521_18c04d314041row5_col6,#T_d6107b16_c458_11eb_9521_18c04d314041row6_col0,#T_d6107b16_c458_11eb_9521_18c04d314041row6_col1,#T_d6107b16_c458_11eb_9521_18c04d314041row6_col2,#T_d6107b16_c458_11eb_9521_18c04d314041row6_col3,#T_d6107b16_c458_11eb_9521_18c04d314041row6_col4,#T_d6107b16_c458_11eb_9521_18c04d314041row6_col5,#T_d6107b16_c458_11eb_9521_18c04d314041row6_col6,#T_d6107b16_c458_11eb_9521_18c04d314041row7_col0,#T_d6107b16_c458_11eb_9521_18c04d314041row7_col1,#T_d6107b16_c458_11eb_9521_18c04d314041row7_col2,#T_d6107b16_c458_11eb_9521_18c04d314041row7_col3,#T_d6107b16_c458_11eb_9521_18c04d314041row7_col4,#T_d6107b16_c458_11eb_9521_18c04d314041row7_col5,#T_d6107b16_c458_11eb_9521_18c04d314041row7_col6,#T_d6107b16_c458_11eb_9521_18c04d314041row8_col0,#T_d6107b16_c458_11eb_9521_18c04d314041row8_col1,#T_d6107b16_c458_11eb_9521_18c04d314041row8_col2,#T_d6107b16_c458_11eb_9521_18c04d314041row8_col3,#T_d6107b16_c458_11eb_9521_18c04d314041row8_col4,#T_d6107b16_c458_11eb_9521_18c04d314041row8_col5,#T_d6107b16_c458_11eb_9521_18c04d314041row8_col6,#T_d6107b16_c458_11eb_9521_18c04d314041row9_col0,#T_d6107b16_c458_11eb_9521_18c04d314041row9_col1,#T_d6107b16_c458_11eb_9521_18c04d314041row9_col2,#T_d6107b16_c458_11eb_9521_18c04d314041row9_col3,#T_d6107b16_c458_11eb_9521_18c04d314041row9_col4,#T_d6107b16_c458_11eb_9521_18c04d314041row9_col5,#T_d6107b16_c458_11eb_9521_18c04d314041row9_col6,#T_d6107b16_c458_11eb_9521_18c04d314041row10_col0,#T_d6107b16_c458_11eb_9521_18c04d314041row10_col1,#T_d6107b16_c458_11eb_9521_18c04d314041row10_col2,#T_d6107b16_c458_11eb_9521_18c04d314041row10_col3,#T_d6107b16_c458_11eb_9521_18c04d314041row10_col4,#T_d6107b16_c458_11eb_9521_18c04d314041row10_col5,#T_d6107b16_c458_11eb_9521_18c04d314041row10_col6,#T_d6107b16_c458_11eb_9521_18c04d314041row11_col0,#T_d6107b16_c458_11eb_9521_18c04d314041row11_col1,#T_d6107b16_c458_11eb_9521_18c04d314041row11_col2,#T_d6107b16_c458_11eb_9521_18c04d314041row11_col3,#T_d6107b16_c458_11eb_9521_18c04d314041row11_col4,#T_d6107b16_c458_11eb_9521_18c04d314041row11_col5,#T_d6107b16_c458_11eb_9521_18c04d314041row11_col6,#T_d6107b16_c458_11eb_9521_18c04d314041row12_col0,#T_d6107b16_c458_11eb_9521_18c04d314041row12_col1,#T_d6107b16_c458_11eb_9521_18c04d314041row12_col2,#T_d6107b16_c458_11eb_9521_18c04d314041row12_col3,#T_d6107b16_c458_11eb_9521_18c04d314041row12_col4,#T_d6107b16_c458_11eb_9521_18c04d314041row12_col5,#T_d6107b16_c458_11eb_9521_18c04d314041row12_col6,#T_d6107b16_c458_11eb_9521_18c04d314041row13_col0,#T_d6107b16_c458_11eb_9521_18c04d314041row13_col1,#T_d6107b16_c458_11eb_9521_18c04d314041row13_col2,#T_d6107b16_c458_11eb_9521_18c04d314041row13_col3,#T_d6107b16_c458_11eb_9521_18c04d314041row13_col4,#T_d6107b16_c458_11eb_9521_18c04d314041row13_col5,#T_d6107b16_c458_11eb_9521_18c04d314041row13_col6,#T_d6107b16_c458_11eb_9521_18c04d314041row14_col0,#T_d6107b16_c458_11eb_9521_18c04d314041row14_col1,#T_d6107b16_c458_11eb_9521_18c04d314041row14_col2,#T_d6107b16_c458_11eb_9521_18c04d314041row14_col3,#T_d6107b16_c458_11eb_9521_18c04d314041row14_col4,#T_d6107b16_c458_11eb_9521_18c04d314041row14_col5,#T_d6107b16_c458_11eb_9521_18c04d314041row14_col6,#T_d6107b16_c458_11eb_9521_18c04d314041row15_col0,#T_d6107b16_c458_11eb_9521_18c04d314041row15_col1,#T_d6107b16_c458_11eb_9521_18c04d314041row15_col2,#T_d6107b16_c458_11eb_9521_18c04d314041row15_col3,#T_d6107b16_c458_11eb_9521_18c04d314041row15_col4,#T_d6107b16_c458_11eb_9521_18c04d314041row15_col5,#T_d6107b16_c458_11eb_9521_18c04d314041row15_col6,#T_d6107b16_c458_11eb_9521_18c04d314041row16_col0,#T_d6107b16_c458_11eb_9521_18c04d314041row16_col1,#T_d6107b16_c458_11eb_9521_18c04d314041row16_col2,#T_d6107b16_c458_11eb_9521_18c04d314041row16_col3,#T_d6107b16_c458_11eb_9521_18c04d314041row16_col4,#T_d6107b16_c458_11eb_9521_18c04d314041row16_col5,#T_d6107b16_c458_11eb_9521_18c04d314041row16_col6,#T_d6107b16_c458_11eb_9521_18c04d314041row17_col0,#T_d6107b16_c458_11eb_9521_18c04d314041row17_col1,#T_d6107b16_c458_11eb_9521_18c04d314041row17_col2,#T_d6107b16_c458_11eb_9521_18c04d314041row17_col3,#T_d6107b16_c458_11eb_9521_18c04d314041row17_col4,#T_d6107b16_c458_11eb_9521_18c04d314041row17_col5,#T_d6107b16_c458_11eb_9521_18c04d314041row17_col6,#T_d6107b16_c458_11eb_9521_18c04d314041row18_col0,#T_d6107b16_c458_11eb_9521_18c04d314041row18_col1,#T_d6107b16_c458_11eb_9521_18c04d314041row18_col2,#T_d6107b16_c458_11eb_9521_18c04d314041row18_col3,#T_d6107b16_c458_11eb_9521_18c04d314041row18_col4,#T_d6107b16_c458_11eb_9521_18c04d314041row18_col5,#T_d6107b16_c458_11eb_9521_18c04d314041row18_col6,#T_d6107b16_c458_11eb_9521_18c04d314041row19_col0,#T_d6107b16_c458_11eb_9521_18c04d314041row19_col1,#T_d6107b16_c458_11eb_9521_18c04d314041row19_col2,#T_d6107b16_c458_11eb_9521_18c04d314041row19_col3,#T_d6107b16_c458_11eb_9521_18c04d314041row19_col4,#T_d6107b16_c458_11eb_9521_18c04d314041row19_col5,#T_d6107b16_c458_11eb_9521_18c04d314041row19_col6{\n",
       "            background-color:  black;\n",
       "            color:  lightgreen;\n",
       "            border-color:  white;\n",
       "        }</style><table id=\"T_d6107b16_c458_11eb_9521_18c04d314041\" ><thead>    <tr>        <th class=\"blank level0\" ></th>        <th class=\"col_heading level0 col0\" >Purchase_ID</th>        <th class=\"col_heading level0 col1\" >SN</th>        <th class=\"col_heading level0 col2\" >Age</th>        <th class=\"col_heading level0 col3\" >Gender</th>        <th class=\"col_heading level0 col4\" >Item_ID</th>        <th class=\"col_heading level0 col5\" >Item_Name</th>        <th class=\"col_heading level0 col6\" >Price</th>    </tr></thead><tbody>\n",
       "                <tr>\n",
       "                        <th id=\"T_d6107b16_c458_11eb_9521_18c04d314041level0_row0\" class=\"row_heading level0 row0\" >0</th>\n",
       "                        <td id=\"T_d6107b16_c458_11eb_9521_18c04d314041row0_col0\" class=\"data row0 col0\" >0</td>\n",
       "                        <td id=\"T_d6107b16_c458_11eb_9521_18c04d314041row0_col1\" class=\"data row0 col1\" >Lisim78</td>\n",
       "                        <td id=\"T_d6107b16_c458_11eb_9521_18c04d314041row0_col2\" class=\"data row0 col2\" >20</td>\n",
       "                        <td id=\"T_d6107b16_c458_11eb_9521_18c04d314041row0_col3\" class=\"data row0 col3\" >Male</td>\n",
       "                        <td id=\"T_d6107b16_c458_11eb_9521_18c04d314041row0_col4\" class=\"data row0 col4\" >108</td>\n",
       "                        <td id=\"T_d6107b16_c458_11eb_9521_18c04d314041row0_col5\" class=\"data row0 col5\" >Extraction, Quickblade Of Trembling Hands</td>\n",
       "                        <td id=\"T_d6107b16_c458_11eb_9521_18c04d314041row0_col6\" class=\"data row0 col6\" >3.530000</td>\n",
       "            </tr>\n",
       "            <tr>\n",
       "                        <th id=\"T_d6107b16_c458_11eb_9521_18c04d314041level0_row1\" class=\"row_heading level0 row1\" >1</th>\n",
       "                        <td id=\"T_d6107b16_c458_11eb_9521_18c04d314041row1_col0\" class=\"data row1 col0\" >1</td>\n",
       "                        <td id=\"T_d6107b16_c458_11eb_9521_18c04d314041row1_col1\" class=\"data row1 col1\" >Lisovynya38</td>\n",
       "                        <td id=\"T_d6107b16_c458_11eb_9521_18c04d314041row1_col2\" class=\"data row1 col2\" >40</td>\n",
       "                        <td id=\"T_d6107b16_c458_11eb_9521_18c04d314041row1_col3\" class=\"data row1 col3\" >Male</td>\n",
       "                        <td id=\"T_d6107b16_c458_11eb_9521_18c04d314041row1_col4\" class=\"data row1 col4\" >143</td>\n",
       "                        <td id=\"T_d6107b16_c458_11eb_9521_18c04d314041row1_col5\" class=\"data row1 col5\" >Frenzied Scimitar</td>\n",
       "                        <td id=\"T_d6107b16_c458_11eb_9521_18c04d314041row1_col6\" class=\"data row1 col6\" >1.560000</td>\n",
       "            </tr>\n",
       "            <tr>\n",
       "                        <th id=\"T_d6107b16_c458_11eb_9521_18c04d314041level0_row2\" class=\"row_heading level0 row2\" >2</th>\n",
       "                        <td id=\"T_d6107b16_c458_11eb_9521_18c04d314041row2_col0\" class=\"data row2 col0\" >2</td>\n",
       "                        <td id=\"T_d6107b16_c458_11eb_9521_18c04d314041row2_col1\" class=\"data row2 col1\" >Ithergue48</td>\n",
       "                        <td id=\"T_d6107b16_c458_11eb_9521_18c04d314041row2_col2\" class=\"data row2 col2\" >24</td>\n",
       "                        <td id=\"T_d6107b16_c458_11eb_9521_18c04d314041row2_col3\" class=\"data row2 col3\" >Male</td>\n",
       "                        <td id=\"T_d6107b16_c458_11eb_9521_18c04d314041row2_col4\" class=\"data row2 col4\" >92</td>\n",
       "                        <td id=\"T_d6107b16_c458_11eb_9521_18c04d314041row2_col5\" class=\"data row2 col5\" >Final Critic</td>\n",
       "                        <td id=\"T_d6107b16_c458_11eb_9521_18c04d314041row2_col6\" class=\"data row2 col6\" >4.880000</td>\n",
       "            </tr>\n",
       "            <tr>\n",
       "                        <th id=\"T_d6107b16_c458_11eb_9521_18c04d314041level0_row3\" class=\"row_heading level0 row3\" >3</th>\n",
       "                        <td id=\"T_d6107b16_c458_11eb_9521_18c04d314041row3_col0\" class=\"data row3 col0\" >3</td>\n",
       "                        <td id=\"T_d6107b16_c458_11eb_9521_18c04d314041row3_col1\" class=\"data row3 col1\" >Chamassasya86</td>\n",
       "                        <td id=\"T_d6107b16_c458_11eb_9521_18c04d314041row3_col2\" class=\"data row3 col2\" >24</td>\n",
       "                        <td id=\"T_d6107b16_c458_11eb_9521_18c04d314041row3_col3\" class=\"data row3 col3\" >Male</td>\n",
       "                        <td id=\"T_d6107b16_c458_11eb_9521_18c04d314041row3_col4\" class=\"data row3 col4\" >100</td>\n",
       "                        <td id=\"T_d6107b16_c458_11eb_9521_18c04d314041row3_col5\" class=\"data row3 col5\" >Blindscythe</td>\n",
       "                        <td id=\"T_d6107b16_c458_11eb_9521_18c04d314041row3_col6\" class=\"data row3 col6\" >3.270000</td>\n",
       "            </tr>\n",
       "            <tr>\n",
       "                        <th id=\"T_d6107b16_c458_11eb_9521_18c04d314041level0_row4\" class=\"row_heading level0 row4\" >4</th>\n",
       "                        <td id=\"T_d6107b16_c458_11eb_9521_18c04d314041row4_col0\" class=\"data row4 col0\" >4</td>\n",
       "                        <td id=\"T_d6107b16_c458_11eb_9521_18c04d314041row4_col1\" class=\"data row4 col1\" >Iskosia90</td>\n",
       "                        <td id=\"T_d6107b16_c458_11eb_9521_18c04d314041row4_col2\" class=\"data row4 col2\" >23</td>\n",
       "                        <td id=\"T_d6107b16_c458_11eb_9521_18c04d314041row4_col3\" class=\"data row4 col3\" >Male</td>\n",
       "                        <td id=\"T_d6107b16_c458_11eb_9521_18c04d314041row4_col4\" class=\"data row4 col4\" >131</td>\n",
       "                        <td id=\"T_d6107b16_c458_11eb_9521_18c04d314041row4_col5\" class=\"data row4 col5\" >Fury</td>\n",
       "                        <td id=\"T_d6107b16_c458_11eb_9521_18c04d314041row4_col6\" class=\"data row4 col6\" >1.440000</td>\n",
       "            </tr>\n",
       "            <tr>\n",
       "                        <th id=\"T_d6107b16_c458_11eb_9521_18c04d314041level0_row5\" class=\"row_heading level0 row5\" >5</th>\n",
       "                        <td id=\"T_d6107b16_c458_11eb_9521_18c04d314041row5_col0\" class=\"data row5 col0\" >5</td>\n",
       "                        <td id=\"T_d6107b16_c458_11eb_9521_18c04d314041row5_col1\" class=\"data row5 col1\" >Yalae81</td>\n",
       "                        <td id=\"T_d6107b16_c458_11eb_9521_18c04d314041row5_col2\" class=\"data row5 col2\" >22</td>\n",
       "                        <td id=\"T_d6107b16_c458_11eb_9521_18c04d314041row5_col3\" class=\"data row5 col3\" >Male</td>\n",
       "                        <td id=\"T_d6107b16_c458_11eb_9521_18c04d314041row5_col4\" class=\"data row5 col4\" >81</td>\n",
       "                        <td id=\"T_d6107b16_c458_11eb_9521_18c04d314041row5_col5\" class=\"data row5 col5\" >Dreamkiss</td>\n",
       "                        <td id=\"T_d6107b16_c458_11eb_9521_18c04d314041row5_col6\" class=\"data row5 col6\" >3.610000</td>\n",
       "            </tr>\n",
       "            <tr>\n",
       "                        <th id=\"T_d6107b16_c458_11eb_9521_18c04d314041level0_row6\" class=\"row_heading level0 row6\" >6</th>\n",
       "                        <td id=\"T_d6107b16_c458_11eb_9521_18c04d314041row6_col0\" class=\"data row6 col0\" >6</td>\n",
       "                        <td id=\"T_d6107b16_c458_11eb_9521_18c04d314041row6_col1\" class=\"data row6 col1\" >Itheria73</td>\n",
       "                        <td id=\"T_d6107b16_c458_11eb_9521_18c04d314041row6_col2\" class=\"data row6 col2\" >36</td>\n",
       "                        <td id=\"T_d6107b16_c458_11eb_9521_18c04d314041row6_col3\" class=\"data row6 col3\" >Male</td>\n",
       "                        <td id=\"T_d6107b16_c458_11eb_9521_18c04d314041row6_col4\" class=\"data row6 col4\" >169</td>\n",
       "                        <td id=\"T_d6107b16_c458_11eb_9521_18c04d314041row6_col5\" class=\"data row6 col5\" >Interrogator, Blood Blade of the Queen</td>\n",
       "                        <td id=\"T_d6107b16_c458_11eb_9521_18c04d314041row6_col6\" class=\"data row6 col6\" >2.180000</td>\n",
       "            </tr>\n",
       "            <tr>\n",
       "                        <th id=\"T_d6107b16_c458_11eb_9521_18c04d314041level0_row7\" class=\"row_heading level0 row7\" >7</th>\n",
       "                        <td id=\"T_d6107b16_c458_11eb_9521_18c04d314041row7_col0\" class=\"data row7 col0\" >7</td>\n",
       "                        <td id=\"T_d6107b16_c458_11eb_9521_18c04d314041row7_col1\" class=\"data row7 col1\" >Iskjaskst81</td>\n",
       "                        <td id=\"T_d6107b16_c458_11eb_9521_18c04d314041row7_col2\" class=\"data row7 col2\" >20</td>\n",
       "                        <td id=\"T_d6107b16_c458_11eb_9521_18c04d314041row7_col3\" class=\"data row7 col3\" >Male</td>\n",
       "                        <td id=\"T_d6107b16_c458_11eb_9521_18c04d314041row7_col4\" class=\"data row7 col4\" >162</td>\n",
       "                        <td id=\"T_d6107b16_c458_11eb_9521_18c04d314041row7_col5\" class=\"data row7 col5\" >Abyssal Shard</td>\n",
       "                        <td id=\"T_d6107b16_c458_11eb_9521_18c04d314041row7_col6\" class=\"data row7 col6\" >2.670000</td>\n",
       "            </tr>\n",
       "            <tr>\n",
       "                        <th id=\"T_d6107b16_c458_11eb_9521_18c04d314041level0_row8\" class=\"row_heading level0 row8\" >8</th>\n",
       "                        <td id=\"T_d6107b16_c458_11eb_9521_18c04d314041row8_col0\" class=\"data row8 col0\" >8</td>\n",
       "                        <td id=\"T_d6107b16_c458_11eb_9521_18c04d314041row8_col1\" class=\"data row8 col1\" >Undjask33</td>\n",
       "                        <td id=\"T_d6107b16_c458_11eb_9521_18c04d314041row8_col2\" class=\"data row8 col2\" >22</td>\n",
       "                        <td id=\"T_d6107b16_c458_11eb_9521_18c04d314041row8_col3\" class=\"data row8 col3\" >Male</td>\n",
       "                        <td id=\"T_d6107b16_c458_11eb_9521_18c04d314041row8_col4\" class=\"data row8 col4\" >21</td>\n",
       "                        <td id=\"T_d6107b16_c458_11eb_9521_18c04d314041row8_col5\" class=\"data row8 col5\" >Souleater</td>\n",
       "                        <td id=\"T_d6107b16_c458_11eb_9521_18c04d314041row8_col6\" class=\"data row8 col6\" >1.100000</td>\n",
       "            </tr>\n",
       "            <tr>\n",
       "                        <th id=\"T_d6107b16_c458_11eb_9521_18c04d314041level0_row9\" class=\"row_heading level0 row9\" >9</th>\n",
       "                        <td id=\"T_d6107b16_c458_11eb_9521_18c04d314041row9_col0\" class=\"data row9 col0\" >9</td>\n",
       "                        <td id=\"T_d6107b16_c458_11eb_9521_18c04d314041row9_col1\" class=\"data row9 col1\" >Chanosian48</td>\n",
       "                        <td id=\"T_d6107b16_c458_11eb_9521_18c04d314041row9_col2\" class=\"data row9 col2\" >35</td>\n",
       "                        <td id=\"T_d6107b16_c458_11eb_9521_18c04d314041row9_col3\" class=\"data row9 col3\" >Other / Non-Disclosed</td>\n",
       "                        <td id=\"T_d6107b16_c458_11eb_9521_18c04d314041row9_col4\" class=\"data row9 col4\" >136</td>\n",
       "                        <td id=\"T_d6107b16_c458_11eb_9521_18c04d314041row9_col5\" class=\"data row9 col5\" >Ghastly Adamantite Protector</td>\n",
       "                        <td id=\"T_d6107b16_c458_11eb_9521_18c04d314041row9_col6\" class=\"data row9 col6\" >3.580000</td>\n",
       "            </tr>\n",
       "            <tr>\n",
       "                        <th id=\"T_d6107b16_c458_11eb_9521_18c04d314041level0_row10\" class=\"row_heading level0 row10\" >10</th>\n",
       "                        <td id=\"T_d6107b16_c458_11eb_9521_18c04d314041row10_col0\" class=\"data row10 col0\" >10</td>\n",
       "                        <td id=\"T_d6107b16_c458_11eb_9521_18c04d314041row10_col1\" class=\"data row10 col1\" >Inguron55</td>\n",
       "                        <td id=\"T_d6107b16_c458_11eb_9521_18c04d314041row10_col2\" class=\"data row10 col2\" >23</td>\n",
       "                        <td id=\"T_d6107b16_c458_11eb_9521_18c04d314041row10_col3\" class=\"data row10 col3\" >Male</td>\n",
       "                        <td id=\"T_d6107b16_c458_11eb_9521_18c04d314041row10_col4\" class=\"data row10 col4\" >95</td>\n",
       "                        <td id=\"T_d6107b16_c458_11eb_9521_18c04d314041row10_col5\" class=\"data row10 col5\" >Singed Onyx Warscythe</td>\n",
       "                        <td id=\"T_d6107b16_c458_11eb_9521_18c04d314041row10_col6\" class=\"data row10 col6\" >4.740000</td>\n",
       "            </tr>\n",
       "            <tr>\n",
       "                        <th id=\"T_d6107b16_c458_11eb_9521_18c04d314041level0_row11\" class=\"row_heading level0 row11\" >11</th>\n",
       "                        <td id=\"T_d6107b16_c458_11eb_9521_18c04d314041row11_col0\" class=\"data row11 col0\" >11</td>\n",
       "                        <td id=\"T_d6107b16_c458_11eb_9521_18c04d314041row11_col1\" class=\"data row11 col1\" >Haisrisuir60</td>\n",
       "                        <td id=\"T_d6107b16_c458_11eb_9521_18c04d314041row11_col2\" class=\"data row11 col2\" >23</td>\n",
       "                        <td id=\"T_d6107b16_c458_11eb_9521_18c04d314041row11_col3\" class=\"data row11 col3\" >Male</td>\n",
       "                        <td id=\"T_d6107b16_c458_11eb_9521_18c04d314041row11_col4\" class=\"data row11 col4\" >162</td>\n",
       "                        <td id=\"T_d6107b16_c458_11eb_9521_18c04d314041row11_col5\" class=\"data row11 col5\" >Abyssal Shard</td>\n",
       "                        <td id=\"T_d6107b16_c458_11eb_9521_18c04d314041row11_col6\" class=\"data row11 col6\" >2.670000</td>\n",
       "            </tr>\n",
       "            <tr>\n",
       "                        <th id=\"T_d6107b16_c458_11eb_9521_18c04d314041level0_row12\" class=\"row_heading level0 row12\" >12</th>\n",
       "                        <td id=\"T_d6107b16_c458_11eb_9521_18c04d314041row12_col0\" class=\"data row12 col0\" >12</td>\n",
       "                        <td id=\"T_d6107b16_c458_11eb_9521_18c04d314041row12_col1\" class=\"data row12 col1\" >Saelaephos52</td>\n",
       "                        <td id=\"T_d6107b16_c458_11eb_9521_18c04d314041row12_col2\" class=\"data row12 col2\" >21</td>\n",
       "                        <td id=\"T_d6107b16_c458_11eb_9521_18c04d314041row12_col3\" class=\"data row12 col3\" >Male</td>\n",
       "                        <td id=\"T_d6107b16_c458_11eb_9521_18c04d314041row12_col4\" class=\"data row12 col4\" >116</td>\n",
       "                        <td id=\"T_d6107b16_c458_11eb_9521_18c04d314041row12_col5\" class=\"data row12 col5\" >Renewed Skeletal Katana</td>\n",
       "                        <td id=\"T_d6107b16_c458_11eb_9521_18c04d314041row12_col6\" class=\"data row12 col6\" >4.180000</td>\n",
       "            </tr>\n",
       "            <tr>\n",
       "                        <th id=\"T_d6107b16_c458_11eb_9521_18c04d314041level0_row13\" class=\"row_heading level0 row13\" >13</th>\n",
       "                        <td id=\"T_d6107b16_c458_11eb_9521_18c04d314041row13_col0\" class=\"data row13 col0\" >13</td>\n",
       "                        <td id=\"T_d6107b16_c458_11eb_9521_18c04d314041row13_col1\" class=\"data row13 col1\" >Assjaskan73</td>\n",
       "                        <td id=\"T_d6107b16_c458_11eb_9521_18c04d314041row13_col2\" class=\"data row13 col2\" >22</td>\n",
       "                        <td id=\"T_d6107b16_c458_11eb_9521_18c04d314041row13_col3\" class=\"data row13 col3\" >Male</td>\n",
       "                        <td id=\"T_d6107b16_c458_11eb_9521_18c04d314041row13_col4\" class=\"data row13 col4\" >4</td>\n",
       "                        <td id=\"T_d6107b16_c458_11eb_9521_18c04d314041row13_col5\" class=\"data row13 col5\" >Bloodlord's Fetish</td>\n",
       "                        <td id=\"T_d6107b16_c458_11eb_9521_18c04d314041row13_col6\" class=\"data row13 col6\" >1.700000</td>\n",
       "            </tr>\n",
       "            <tr>\n",
       "                        <th id=\"T_d6107b16_c458_11eb_9521_18c04d314041level0_row14\" class=\"row_heading level0 row14\" >14</th>\n",
       "                        <td id=\"T_d6107b16_c458_11eb_9521_18c04d314041row14_col0\" class=\"data row14 col0\" >14</td>\n",
       "                        <td id=\"T_d6107b16_c458_11eb_9521_18c04d314041row14_col1\" class=\"data row14 col1\" >Saesrideu94</td>\n",
       "                        <td id=\"T_d6107b16_c458_11eb_9521_18c04d314041row14_col2\" class=\"data row14 col2\" >35</td>\n",
       "                        <td id=\"T_d6107b16_c458_11eb_9521_18c04d314041row14_col3\" class=\"data row14 col3\" >Male</td>\n",
       "                        <td id=\"T_d6107b16_c458_11eb_9521_18c04d314041row14_col4\" class=\"data row14 col4\" >165</td>\n",
       "                        <td id=\"T_d6107b16_c458_11eb_9521_18c04d314041row14_col5\" class=\"data row14 col5\" >Bone Crushing Silver Skewer</td>\n",
       "                        <td id=\"T_d6107b16_c458_11eb_9521_18c04d314041row14_col6\" class=\"data row14 col6\" >4.860000</td>\n",
       "            </tr>\n",
       "            <tr>\n",
       "                        <th id=\"T_d6107b16_c458_11eb_9521_18c04d314041level0_row15\" class=\"row_heading level0 row15\" >15</th>\n",
       "                        <td id=\"T_d6107b16_c458_11eb_9521_18c04d314041row15_col0\" class=\"data row15 col0\" >15</td>\n",
       "                        <td id=\"T_d6107b16_c458_11eb_9521_18c04d314041row15_col1\" class=\"data row15 col1\" >Lisassa64</td>\n",
       "                        <td id=\"T_d6107b16_c458_11eb_9521_18c04d314041row15_col2\" class=\"data row15 col2\" >21</td>\n",
       "                        <td id=\"T_d6107b16_c458_11eb_9521_18c04d314041row15_col3\" class=\"data row15 col3\" >Female</td>\n",
       "                        <td id=\"T_d6107b16_c458_11eb_9521_18c04d314041row15_col4\" class=\"data row15 col4\" >98</td>\n",
       "                        <td id=\"T_d6107b16_c458_11eb_9521_18c04d314041row15_col5\" class=\"data row15 col5\" >Deadline, Voice Of Subtlety</td>\n",
       "                        <td id=\"T_d6107b16_c458_11eb_9521_18c04d314041row15_col6\" class=\"data row15 col6\" >2.890000</td>\n",
       "            </tr>\n",
       "            <tr>\n",
       "                        <th id=\"T_d6107b16_c458_11eb_9521_18c04d314041level0_row16\" class=\"row_heading level0 row16\" >16</th>\n",
       "                        <td id=\"T_d6107b16_c458_11eb_9521_18c04d314041row16_col0\" class=\"data row16 col0\" >16</td>\n",
       "                        <td id=\"T_d6107b16_c458_11eb_9521_18c04d314041row16_col1\" class=\"data row16 col1\" >Lisirra25</td>\n",
       "                        <td id=\"T_d6107b16_c458_11eb_9521_18c04d314041row16_col2\" class=\"data row16 col2\" >20</td>\n",
       "                        <td id=\"T_d6107b16_c458_11eb_9521_18c04d314041row16_col3\" class=\"data row16 col3\" >Male</td>\n",
       "                        <td id=\"T_d6107b16_c458_11eb_9521_18c04d314041row16_col4\" class=\"data row16 col4\" >40</td>\n",
       "                        <td id=\"T_d6107b16_c458_11eb_9521_18c04d314041row16_col5\" class=\"data row16 col5\" >Second Chance</td>\n",
       "                        <td id=\"T_d6107b16_c458_11eb_9521_18c04d314041row16_col6\" class=\"data row16 col6\" >2.520000</td>\n",
       "            </tr>\n",
       "            <tr>\n",
       "                        <th id=\"T_d6107b16_c458_11eb_9521_18c04d314041level0_row17\" class=\"row_heading level0 row17\" >17</th>\n",
       "                        <td id=\"T_d6107b16_c458_11eb_9521_18c04d314041row17_col0\" class=\"data row17 col0\" >17</td>\n",
       "                        <td id=\"T_d6107b16_c458_11eb_9521_18c04d314041row17_col1\" class=\"data row17 col1\" >Zontibe81</td>\n",
       "                        <td id=\"T_d6107b16_c458_11eb_9521_18c04d314041row17_col2\" class=\"data row17 col2\" >21</td>\n",
       "                        <td id=\"T_d6107b16_c458_11eb_9521_18c04d314041row17_col3\" class=\"data row17 col3\" >Male</td>\n",
       "                        <td id=\"T_d6107b16_c458_11eb_9521_18c04d314041row17_col4\" class=\"data row17 col4\" >161</td>\n",
       "                        <td id=\"T_d6107b16_c458_11eb_9521_18c04d314041row17_col5\" class=\"data row17 col5\" >Devine</td>\n",
       "                        <td id=\"T_d6107b16_c458_11eb_9521_18c04d314041row17_col6\" class=\"data row17 col6\" >1.760000</td>\n",
       "            </tr>\n",
       "            <tr>\n",
       "                        <th id=\"T_d6107b16_c458_11eb_9521_18c04d314041level0_row18\" class=\"row_heading level0 row18\" >18</th>\n",
       "                        <td id=\"T_d6107b16_c458_11eb_9521_18c04d314041row18_col0\" class=\"data row18 col0\" >18</td>\n",
       "                        <td id=\"T_d6107b16_c458_11eb_9521_18c04d314041row18_col1\" class=\"data row18 col1\" >Reunasu60</td>\n",
       "                        <td id=\"T_d6107b16_c458_11eb_9521_18c04d314041row18_col2\" class=\"data row18 col2\" >22</td>\n",
       "                        <td id=\"T_d6107b16_c458_11eb_9521_18c04d314041row18_col3\" class=\"data row18 col3\" >Female</td>\n",
       "                        <td id=\"T_d6107b16_c458_11eb_9521_18c04d314041row18_col4\" class=\"data row18 col4\" >82</td>\n",
       "                        <td id=\"T_d6107b16_c458_11eb_9521_18c04d314041row18_col5\" class=\"data row18 col5\" >Nirvana</td>\n",
       "                        <td id=\"T_d6107b16_c458_11eb_9521_18c04d314041row18_col6\" class=\"data row18 col6\" >4.900000</td>\n",
       "            </tr>\n",
       "            <tr>\n",
       "                        <th id=\"T_d6107b16_c458_11eb_9521_18c04d314041level0_row19\" class=\"row_heading level0 row19\" >19</th>\n",
       "                        <td id=\"T_d6107b16_c458_11eb_9521_18c04d314041row19_col0\" class=\"data row19 col0\" >19</td>\n",
       "                        <td id=\"T_d6107b16_c458_11eb_9521_18c04d314041row19_col1\" class=\"data row19 col1\" >Chamalo71</td>\n",
       "                        <td id=\"T_d6107b16_c458_11eb_9521_18c04d314041row19_col2\" class=\"data row19 col2\" >30</td>\n",
       "                        <td id=\"T_d6107b16_c458_11eb_9521_18c04d314041row19_col3\" class=\"data row19 col3\" >Male</td>\n",
       "                        <td id=\"T_d6107b16_c458_11eb_9521_18c04d314041row19_col4\" class=\"data row19 col4\" >89</td>\n",
       "                        <td id=\"T_d6107b16_c458_11eb_9521_18c04d314041row19_col5\" class=\"data row19 col5\" >Blazefury, Protector of Delusions</td>\n",
       "                        <td id=\"T_d6107b16_c458_11eb_9521_18c04d314041row19_col6\" class=\"data row19 col6\" >4.640000</td>\n",
       "            </tr>\n",
       "    </tbody></table>"
      ],
      "text/plain": [
       "<pandas.io.formats.style.Styler at 0x2c221fc2a00>"
      ]
     },
     "execution_count": 1,
     "metadata": {},
     "output_type": "execute_result"
    }
   ],
   "source": [
    "# Dependencies and Setup\n",
    "import pandas as pd\n",
    "import numpy as np\n",
    "\n",
    "# File to Load (Remember to Change These)\n",
    "file_to_load = \"Resources/purchase_data.csv\"\n",
    "\n",
    "# Read Purchasing File and store into Pandas data frame\n",
    "purchase_data = pd.read_csv(file_to_load)\n",
    "purchase_data = purchase_data.rename(columns={\"Purchase ID\": \"Purchase_ID\", \"Item ID\": \"Item_ID\", \"Item Name\":\"Item_Name\"})\n",
    "purchase_data.head(20).style.set_properties(**{'background-color': 'black','color': 'lightgreen','border-color': 'white'})"
   ]
  },
  {
   "cell_type": "markdown",
   "metadata": {},
   "source": [
    "## Player Count"
   ]
  },
  {
   "cell_type": "markdown",
   "metadata": {},
   "source": [
    "* Display the total number of players\n"
   ]
  },
  {
   "cell_type": "code",
   "execution_count": 2,
   "metadata": {},
   "outputs": [
    {
     "name": "stdout",
     "output_type": "stream",
     "text": [
      "The total number of unique players is 576\n"
     ]
    }
   ],
   "source": [
    "#print the n unique fiqure\n",
    "print(\"The total number of unique players is \" + str(purchase_data.SN.nunique()))"
   ]
  },
  {
   "cell_type": "markdown",
   "metadata": {},
   "source": [
    "## Purchasing Analysis (Total)"
   ]
  },
  {
   "cell_type": "markdown",
   "metadata": {},
   "source": [
    "* Run basic calculations to obtain number of unique items, average price, etc.\n",
    "\n",
    "\n",
    "* Create a summary data frame to hold the results\n",
    "\n",
    "\n",
    "* Optional: give the displayed data cleaner formatting\n",
    "\n",
    "\n",
    "* Display the summary data frame\n"
   ]
  },
  {
   "cell_type": "code",
   "execution_count": 3,
   "metadata": {
    "scrolled": true
   },
   "outputs": [
    {
     "name": "stdout",
     "output_type": "stream",
     "text": [
      "   U_Item_Name  AVG_Price\n",
      "0        179.0   3.050987\n"
     ]
    }
   ],
   "source": [
    "#crate list of items and create the eman\n",
    "U_Item_Name = purchase_data.Item_Name.nunique()\n",
    "AVG_Price = purchase_data.Price.mean()\n",
    "#open data frame then add value\n",
    "df = pd.DataFrame(columns=['U_Item_Name', 'AVG_Price'])\n",
    "df = df.append({'U_Item_Name': U_Item_Name, 'AVG_Price': AVG_Price}, ignore_index=True)\n",
    "#print dataframe\n",
    "print(df)"
   ]
  },
  {
   "cell_type": "markdown",
   "metadata": {},
   "source": [
    "## Gender Demographics"
   ]
  },
  {
   "cell_type": "markdown",
   "metadata": {},
   "source": [
    "* Percentage and Count of Male Players\n",
    "\n",
    "\n",
    "* Percentage and Count of Female Players\n",
    "\n",
    "\n",
    "* Percentage and Count of Other / Non-Disclosed\n",
    "\n",
    "\n"
   ]
  },
  {
   "cell_type": "code",
   "execution_count": 4,
   "metadata": {},
   "outputs": [
    {
     "data": {
      "text/html": [
       "<style  type=\"text/css\" >\n",
       "#T_d742ab61_c458_11eb_a796_18c04d314041row0_col0,#T_d742ab61_c458_11eb_a796_18c04d314041row0_col1,#T_d742ab61_c458_11eb_a796_18c04d314041row1_col0,#T_d742ab61_c458_11eb_a796_18c04d314041row1_col1,#T_d742ab61_c458_11eb_a796_18c04d314041row2_col0,#T_d742ab61_c458_11eb_a796_18c04d314041row2_col1{\n",
       "            background-color:  black;\n",
       "            color:  lawngreen;\n",
       "            border-color:  white;\n",
       "        }</style><table id=\"T_d742ab61_c458_11eb_a796_18c04d314041\" ><thead>    <tr>        <th class=\"blank level0\" ></th>        <th class=\"col_heading level0 col0\" >SN</th>        <th class=\"col_heading level0 col1\" >Total%</th>    </tr>    <tr>        <th class=\"index_name level0\" >Gender</th>        <th class=\"blank\" ></th>        <th class=\"blank\" ></th>    </tr></thead><tbody>\n",
       "                <tr>\n",
       "                        <th id=\"T_d742ab61_c458_11eb_a796_18c04d314041level0_row0\" class=\"row_heading level0 row0\" >Female</th>\n",
       "                        <td id=\"T_d742ab61_c458_11eb_a796_18c04d314041row0_col0\" class=\"data row0 col0\" >81</td>\n",
       "                        <td id=\"T_d742ab61_c458_11eb_a796_18c04d314041row0_col1\" class=\"data row0 col1\" >14.06%</td>\n",
       "            </tr>\n",
       "            <tr>\n",
       "                        <th id=\"T_d742ab61_c458_11eb_a796_18c04d314041level0_row1\" class=\"row_heading level0 row1\" >Male</th>\n",
       "                        <td id=\"T_d742ab61_c458_11eb_a796_18c04d314041row1_col0\" class=\"data row1 col0\" >484</td>\n",
       "                        <td id=\"T_d742ab61_c458_11eb_a796_18c04d314041row1_col1\" class=\"data row1 col1\" >84.03%</td>\n",
       "            </tr>\n",
       "            <tr>\n",
       "                        <th id=\"T_d742ab61_c458_11eb_a796_18c04d314041level0_row2\" class=\"row_heading level0 row2\" >Other / Non-Disclosed</th>\n",
       "                        <td id=\"T_d742ab61_c458_11eb_a796_18c04d314041row2_col0\" class=\"data row2 col0\" >11</td>\n",
       "                        <td id=\"T_d742ab61_c458_11eb_a796_18c04d314041row2_col1\" class=\"data row2 col1\" >1.91%</td>\n",
       "            </tr>\n",
       "    </tbody></table>"
      ],
      "text/plain": [
       "<pandas.io.formats.style.Styler at 0x2c225161670>"
      ]
     },
     "execution_count": 4,
     "metadata": {},
     "output_type": "execute_result"
    }
   ],
   "source": [
    "df2 = purchase_data[['SN','Gender']]\n",
    "#get data\n",
    "df3 = df2.drop_duplicates(subset='SN',keep='first')\n",
    "#drop duplicates\n",
    "df4_Total = df3['SN'].count()\n",
    "#count names\n",
    "df4 = df3.groupby('Gender').agg({'SN':'count'})\n",
    "#group by gender\n",
    "df4['Total%'] = df4['SN'] / df4_Total\n",
    "#add total%\n",
    "df4['Total%'] = df4['Total%'].map(\"{:.2%}\".format)\n",
    "#format numbers\n",
    "df4.head().style.set_properties(**{'background-color': 'black','color': 'lawngreen','border-color': 'white'})"
   ]
  },
  {
   "cell_type": "markdown",
   "metadata": {},
   "source": [
    "\n",
    "## Purchasing Analysis (Gender)"
   ]
  },
  {
   "cell_type": "markdown",
   "metadata": {},
   "source": [
    "* Run basic calculations to obtain purchase count, avg. purchase price, avg. purchase total per person etc. by gender\n",
    "\n",
    "\n",
    "* Create a summary data frame to hold the results\n",
    "\n",
    "\n",
    "* Optional: give the displayed data cleaner formatting\n",
    "\n",
    "\n",
    "* Display the summary data frame"
   ]
  },
  {
   "cell_type": "code",
   "execution_count": 5,
   "metadata": {},
   "outputs": [
    {
     "data": {
      "text/html": [
       "<style  type=\"text/css\" >\n",
       "#T_d7b51322_c458_11eb_917b_18c04d314041row0_col0,#T_d7b51322_c458_11eb_917b_18c04d314041row0_col1,#T_d7b51322_c458_11eb_917b_18c04d314041row0_col2,#T_d7b51322_c458_11eb_917b_18c04d314041row0_col3,#T_d7b51322_c458_11eb_917b_18c04d314041row1_col0,#T_d7b51322_c458_11eb_917b_18c04d314041row1_col1,#T_d7b51322_c458_11eb_917b_18c04d314041row1_col2,#T_d7b51322_c458_11eb_917b_18c04d314041row1_col3,#T_d7b51322_c458_11eb_917b_18c04d314041row2_col0,#T_d7b51322_c458_11eb_917b_18c04d314041row2_col1,#T_d7b51322_c458_11eb_917b_18c04d314041row2_col2,#T_d7b51322_c458_11eb_917b_18c04d314041row2_col3{\n",
       "            background-color:  black;\n",
       "            color:  lawngreen;\n",
       "            border-color:  white;\n",
       "        }</style><table id=\"T_d7b51322_c458_11eb_917b_18c04d314041\" ><thead>    <tr>        <th class=\"blank level0\" ></th>        <th class=\"col_heading level0 col0\" >Purchase Count</th>        <th class=\"col_heading level0 col1\" >Average Purchase Count</th>        <th class=\"col_heading level0 col2\" >Total Purchase Price</th>        <th class=\"col_heading level0 col3\" >Avg Total Purchase per Person</th>    </tr>    <tr>        <th class=\"index_name level0\" >Gender</th>        <th class=\"blank\" ></th>        <th class=\"blank\" ></th>        <th class=\"blank\" ></th>        <th class=\"blank\" ></th>    </tr></thead><tbody>\n",
       "                <tr>\n",
       "                        <th id=\"T_d7b51322_c458_11eb_917b_18c04d314041level0_row0\" class=\"row_heading level0 row0\" >Female</th>\n",
       "                        <td id=\"T_d7b51322_c458_11eb_917b_18c04d314041row0_col0\" class=\"data row0 col0\" >113.000000</td>\n",
       "                        <td id=\"T_d7b51322_c458_11eb_917b_18c04d314041row0_col1\" class=\"data row0 col1\" >3.203009</td>\n",
       "                        <td id=\"T_d7b51322_c458_11eb_917b_18c04d314041row0_col2\" class=\"data row0 col2\" >361.940000</td>\n",
       "                        <td id=\"T_d7b51322_c458_11eb_917b_18c04d314041row0_col3\" class=\"data row0 col3\" >4.468395</td>\n",
       "            </tr>\n",
       "            <tr>\n",
       "                        <th id=\"T_d7b51322_c458_11eb_917b_18c04d314041level0_row1\" class=\"row_heading level0 row1\" >Male</th>\n",
       "                        <td id=\"T_d7b51322_c458_11eb_917b_18c04d314041row1_col0\" class=\"data row1 col0\" >652.000000</td>\n",
       "                        <td id=\"T_d7b51322_c458_11eb_917b_18c04d314041row1_col1\" class=\"data row1 col1\" >3.017853</td>\n",
       "                        <td id=\"T_d7b51322_c458_11eb_917b_18c04d314041row1_col2\" class=\"data row1 col2\" >1967.640000</td>\n",
       "                        <td id=\"T_d7b51322_c458_11eb_917b_18c04d314041row1_col3\" class=\"data row1 col3\" >4.065372</td>\n",
       "            </tr>\n",
       "            <tr>\n",
       "                        <th id=\"T_d7b51322_c458_11eb_917b_18c04d314041level0_row2\" class=\"row_heading level0 row2\" >Other / Non-Disclosed</th>\n",
       "                        <td id=\"T_d7b51322_c458_11eb_917b_18c04d314041row2_col0\" class=\"data row2 col0\" >15.000000</td>\n",
       "                        <td id=\"T_d7b51322_c458_11eb_917b_18c04d314041row2_col1\" class=\"data row2 col1\" >3.346000</td>\n",
       "                        <td id=\"T_d7b51322_c458_11eb_917b_18c04d314041row2_col2\" class=\"data row2 col2\" >50.190000</td>\n",
       "                        <td id=\"T_d7b51322_c458_11eb_917b_18c04d314041row2_col3\" class=\"data row2 col3\" >4.562727</td>\n",
       "            </tr>\n",
       "    </tbody></table>"
      ],
      "text/plain": [
       "<pandas.io.formats.style.Styler at 0x2c22521bfd0>"
      ]
     },
     "execution_count": 5,
     "metadata": {},
     "output_type": "execute_result"
    }
   ],
   "source": [
    "# df2 = purchase_data[['Gender','Price']]\n",
    "# df3 = df2.groupby('Gender').agg({'Price':'mean', 'Price':'count'})\n",
    "\n",
    "df2 = purchase_data[['Gender','Price']]\n",
    "\n",
    "# purchase count\n",
    "df_count = df2.groupby('Gender').agg({'Price':'mean', 'Price':'count'})\n",
    "df_count.rename(columns={'Price':'Purchase_Count'}, inplace=True)\n",
    "# df_count.head()\n",
    "\n",
    "# average of price\n",
    "df_average = df2.groupby(['Gender']).mean()\n",
    "df_average.rename(columns={'Price': 'Average_Purchase_Count'}, inplace=True)\n",
    "\n",
    "# purchase total per person\n",
    "df_new = purchase_data[['Gender','SN', 'Price']]\n",
    "df_total = df_new.groupby(['Gender',]).sum()\n",
    "df_total.rename(columns={'Price': 'Total_Purchase_Price'}, inplace=True)\n",
    "\n",
    "# df_total.head()\n",
    "\n",
    "# Avg Total Purchase per\n",
    "df_total_per = df_new.groupby(['Gender', 'SN']).sum()\n",
    "df_avg_total = df_total_per.groupby('Gender').mean()\n",
    "df_avg_total = df_avg_total.rename(columns={'Price': 'Avg_Total_Purchase_per_Person'})\n",
    "#df_avg_total.head()\n",
    "\n",
    "df_total_result = pd.DataFrame([df_count.Purchase_Count, df_average.Average_Purchase_Count, df_total.Total_Purchase_Price, df_avg_total.Avg_Total_Purchase_per_Person]).transpose()\n",
    "df_total_result.columns = [c.replace('_', ' ') for c in df_total_result.columns]\n",
    "df_total_result.head().style.set_properties(**{'background-color': 'black','color': 'lawngreen','border-color': 'white'})"
   ]
  },
  {
   "cell_type": "markdown",
   "metadata": {},
   "source": [
    "## Age Demographics"
   ]
  },
  {
   "cell_type": "markdown",
   "metadata": {},
   "source": [
    "* Establish bins for ages\n",
    "\n",
    "\n",
    "* Categorize the existing players using the age bins. Hint: use pd.cut()\n",
    "\n",
    "\n",
    "* Calculate the numbers and percentages by age group\n",
    "\n",
    "\n",
    "* Create a summary data frame to hold the results\n",
    "\n",
    "\n",
    "* Optional: round the percentage column to two decimal points\n",
    "\n",
    "\n",
    "* Display Age Demographics Table\n"
   ]
  },
  {
   "cell_type": "code",
   "execution_count": 6,
   "metadata": {},
   "outputs": [
    {
     "data": {
      "text/html": [
       "<style  type=\"text/css\" >\n",
       "#T_d827aa25_c458_11eb_80b3_18c04d314041row0_col0,#T_d827aa25_c458_11eb_80b3_18c04d314041row0_col1,#T_d827aa25_c458_11eb_80b3_18c04d314041row1_col0,#T_d827aa25_c458_11eb_80b3_18c04d314041row1_col1,#T_d827aa25_c458_11eb_80b3_18c04d314041row2_col0,#T_d827aa25_c458_11eb_80b3_18c04d314041row2_col1,#T_d827aa25_c458_11eb_80b3_18c04d314041row3_col0,#T_d827aa25_c458_11eb_80b3_18c04d314041row3_col1,#T_d827aa25_c458_11eb_80b3_18c04d314041row4_col0,#T_d827aa25_c458_11eb_80b3_18c04d314041row4_col1,#T_d827aa25_c458_11eb_80b3_18c04d314041row5_col0,#T_d827aa25_c458_11eb_80b3_18c04d314041row5_col1,#T_d827aa25_c458_11eb_80b3_18c04d314041row6_col0,#T_d827aa25_c458_11eb_80b3_18c04d314041row6_col1,#T_d827aa25_c458_11eb_80b3_18c04d314041row7_col0,#T_d827aa25_c458_11eb_80b3_18c04d314041row7_col1{\n",
       "            background-color:  black;\n",
       "            color:  lawngreen;\n",
       "            border-color:  white;\n",
       "        }</style><table id=\"T_d827aa25_c458_11eb_80b3_18c04d314041\" ><thead>    <tr>        <th class=\"blank level0\" ></th>        <th class=\"col_heading level0 col0\" >Age</th>        <th class=\"col_heading level0 col1\" >Percentage of Players</th>    </tr>    <tr>        <th class=\"index_name level0\" >Age_Bin</th>        <th class=\"blank\" ></th>        <th class=\"blank\" ></th>    </tr></thead><tbody>\n",
       "                <tr>\n",
       "                        <th id=\"T_d827aa25_c458_11eb_80b3_18c04d314041level0_row0\" class=\"row_heading level0 row0\" ><10</th>\n",
       "                        <td id=\"T_d827aa25_c458_11eb_80b3_18c04d314041row0_col0\" class=\"data row0 col0\" >17</td>\n",
       "                        <td id=\"T_d827aa25_c458_11eb_80b3_18c04d314041row0_col1\" class=\"data row0 col1\" >2.95%</td>\n",
       "            </tr>\n",
       "            <tr>\n",
       "                        <th id=\"T_d827aa25_c458_11eb_80b3_18c04d314041level0_row1\" class=\"row_heading level0 row1\" >10-14</th>\n",
       "                        <td id=\"T_d827aa25_c458_11eb_80b3_18c04d314041row1_col0\" class=\"data row1 col0\" >22</td>\n",
       "                        <td id=\"T_d827aa25_c458_11eb_80b3_18c04d314041row1_col1\" class=\"data row1 col1\" >3.82%</td>\n",
       "            </tr>\n",
       "            <tr>\n",
       "                        <th id=\"T_d827aa25_c458_11eb_80b3_18c04d314041level0_row2\" class=\"row_heading level0 row2\" >15-19</th>\n",
       "                        <td id=\"T_d827aa25_c458_11eb_80b3_18c04d314041row2_col0\" class=\"data row2 col0\" >107</td>\n",
       "                        <td id=\"T_d827aa25_c458_11eb_80b3_18c04d314041row2_col1\" class=\"data row2 col1\" >18.58%</td>\n",
       "            </tr>\n",
       "            <tr>\n",
       "                        <th id=\"T_d827aa25_c458_11eb_80b3_18c04d314041level0_row3\" class=\"row_heading level0 row3\" >20-24</th>\n",
       "                        <td id=\"T_d827aa25_c458_11eb_80b3_18c04d314041row3_col0\" class=\"data row3 col0\" >258</td>\n",
       "                        <td id=\"T_d827aa25_c458_11eb_80b3_18c04d314041row3_col1\" class=\"data row3 col1\" >44.79%</td>\n",
       "            </tr>\n",
       "            <tr>\n",
       "                        <th id=\"T_d827aa25_c458_11eb_80b3_18c04d314041level0_row4\" class=\"row_heading level0 row4\" >25-29</th>\n",
       "                        <td id=\"T_d827aa25_c458_11eb_80b3_18c04d314041row4_col0\" class=\"data row4 col0\" >77</td>\n",
       "                        <td id=\"T_d827aa25_c458_11eb_80b3_18c04d314041row4_col1\" class=\"data row4 col1\" >13.37%</td>\n",
       "            </tr>\n",
       "            <tr>\n",
       "                        <th id=\"T_d827aa25_c458_11eb_80b3_18c04d314041level0_row5\" class=\"row_heading level0 row5\" >30-34</th>\n",
       "                        <td id=\"T_d827aa25_c458_11eb_80b3_18c04d314041row5_col0\" class=\"data row5 col0\" >52</td>\n",
       "                        <td id=\"T_d827aa25_c458_11eb_80b3_18c04d314041row5_col1\" class=\"data row5 col1\" >9.03%</td>\n",
       "            </tr>\n",
       "            <tr>\n",
       "                        <th id=\"T_d827aa25_c458_11eb_80b3_18c04d314041level0_row6\" class=\"row_heading level0 row6\" >35-39</th>\n",
       "                        <td id=\"T_d827aa25_c458_11eb_80b3_18c04d314041row6_col0\" class=\"data row6 col0\" >31</td>\n",
       "                        <td id=\"T_d827aa25_c458_11eb_80b3_18c04d314041row6_col1\" class=\"data row6 col1\" >5.38%</td>\n",
       "            </tr>\n",
       "            <tr>\n",
       "                        <th id=\"T_d827aa25_c458_11eb_80b3_18c04d314041level0_row7\" class=\"row_heading level0 row7\" >40+</th>\n",
       "                        <td id=\"T_d827aa25_c458_11eb_80b3_18c04d314041row7_col0\" class=\"data row7 col0\" >12</td>\n",
       "                        <td id=\"T_d827aa25_c458_11eb_80b3_18c04d314041row7_col1\" class=\"data row7 col1\" >2.08%</td>\n",
       "            </tr>\n",
       "    </tbody></table>"
      ],
      "text/plain": [
       "<pandas.io.formats.style.Styler at 0x2c221fab4f0>"
      ]
     },
     "execution_count": 6,
     "metadata": {},
     "output_type": "execute_result"
    }
   ],
   "source": [
    "#get data\n",
    "age_demo = purchase_data[['Age','SN']]\n",
    "#drop duplciates\n",
    "age_demo = age_demo.drop_duplicates(subset='SN',keep='first')\n",
    "age_demo_count = age_demo['Age'].count()\n",
    "#age_demo.head()\n",
    "age_demo['Age_Bin'] = pd.cut(x=age_demo['Age'], bins=[0, 9, 14, 19, 24, 29, 34, 39, 200] ,labels=['<10', '10-14', '15-19', '20-24', '25-29', '30-34', '35-39', '40+'])\n",
    "\n",
    "age_demo = age_demo.groupby('Age_Bin').agg({'Age':'count'})\n",
    "age_demo['Percentage of Players'] = (age_demo['Age'] / age_demo_count)\n",
    "age_demo['Percentage of Players'] = age_demo['Percentage of Players'].map(\"{:.2%}\".format)\n",
    "age_demo.style.set_properties(**{'background-color': 'black','color': 'lawngreen','border-color': 'white'})\n"
   ]
  },
  {
   "cell_type": "markdown",
   "metadata": {},
   "source": [
    "## Purchasing Analysis (Age)"
   ]
  },
  {
   "cell_type": "markdown",
   "metadata": {},
   "source": [
    "* Bin the purchase_data data frame by age\n",
    "\n",
    "\n",
    "* Run basic calculations to obtain purchase count, avg. purchase price, avg. purchase total per person etc. in the table below\n",
    "\n",
    "\n",
    "* Create a summary data frame to hold the results\n",
    "\n",
    "\n",
    "* Optional: give the displayed data cleaner formatting\n",
    "\n",
    "\n",
    "* Display the summary data frame"
   ]
  },
  {
   "cell_type": "code",
   "execution_count": 7,
   "metadata": {},
   "outputs": [
    {
     "name": "stderr",
     "output_type": "stream",
     "text": [
      "<ipython-input-7-8f28368b6602>:2: SettingWithCopyWarning: \n",
      "A value is trying to be set on a copy of a slice from a DataFrame.\n",
      "Try using .loc[row_indexer,col_indexer] = value instead\n",
      "\n",
      "See the caveats in the documentation: https://pandas.pydata.org/pandas-docs/stable/user_guide/indexing.html#returning-a-view-versus-a-copy\n",
      "  df1['Age'] = pd.cut(x=df1['Age'], bins=[0, 9, 14, 19, 24, 29, 34, 39, 200] ,labels=['<10', '10-14', '15-19', '20-24', '25-29', '30-34', '35-39', '40+'])\n",
      "<ipython-input-7-8f28368b6602>:16: SettingWithCopyWarning: \n",
      "A value is trying to be set on a copy of a slice from a DataFrame.\n",
      "Try using .loc[row_indexer,col_indexer] = value instead\n",
      "\n",
      "See the caveats in the documentation: https://pandas.pydata.org/pandas-docs/stable/user_guide/indexing.html#returning-a-view-versus-a-copy\n",
      "  df_new['Age'] = pd.cut(x=df_new['Age'], bins=[0, 9, 14, 19, 24, 29, 34, 39, 200] ,labels=['<10', '10-14', '15-19', '20-24', '25-29', '30-34', '35-39', '40+'])\n"
     ]
    },
    {
     "data": {
      "text/html": [
       "<style  type=\"text/css\" >\n",
       "#T_d89c50f8_c458_11eb_a442_18c04d314041row0_col0,#T_d89c50f8_c458_11eb_a442_18c04d314041row0_col1,#T_d89c50f8_c458_11eb_a442_18c04d314041row0_col2,#T_d89c50f8_c458_11eb_a442_18c04d314041row0_col3,#T_d89c50f8_c458_11eb_a442_18c04d314041row1_col0,#T_d89c50f8_c458_11eb_a442_18c04d314041row1_col1,#T_d89c50f8_c458_11eb_a442_18c04d314041row1_col2,#T_d89c50f8_c458_11eb_a442_18c04d314041row1_col3,#T_d89c50f8_c458_11eb_a442_18c04d314041row2_col0,#T_d89c50f8_c458_11eb_a442_18c04d314041row2_col1,#T_d89c50f8_c458_11eb_a442_18c04d314041row2_col2,#T_d89c50f8_c458_11eb_a442_18c04d314041row2_col3,#T_d89c50f8_c458_11eb_a442_18c04d314041row3_col0,#T_d89c50f8_c458_11eb_a442_18c04d314041row3_col1,#T_d89c50f8_c458_11eb_a442_18c04d314041row3_col2,#T_d89c50f8_c458_11eb_a442_18c04d314041row3_col3,#T_d89c50f8_c458_11eb_a442_18c04d314041row4_col0,#T_d89c50f8_c458_11eb_a442_18c04d314041row4_col1,#T_d89c50f8_c458_11eb_a442_18c04d314041row4_col2,#T_d89c50f8_c458_11eb_a442_18c04d314041row4_col3,#T_d89c50f8_c458_11eb_a442_18c04d314041row5_col0,#T_d89c50f8_c458_11eb_a442_18c04d314041row5_col1,#T_d89c50f8_c458_11eb_a442_18c04d314041row5_col2,#T_d89c50f8_c458_11eb_a442_18c04d314041row5_col3,#T_d89c50f8_c458_11eb_a442_18c04d314041row6_col0,#T_d89c50f8_c458_11eb_a442_18c04d314041row6_col1,#T_d89c50f8_c458_11eb_a442_18c04d314041row6_col2,#T_d89c50f8_c458_11eb_a442_18c04d314041row6_col3,#T_d89c50f8_c458_11eb_a442_18c04d314041row7_col0,#T_d89c50f8_c458_11eb_a442_18c04d314041row7_col1,#T_d89c50f8_c458_11eb_a442_18c04d314041row7_col2,#T_d89c50f8_c458_11eb_a442_18c04d314041row7_col3{\n",
       "            background-color:  black;\n",
       "            color:  lawngreen;\n",
       "            border-color:  white;\n",
       "        }</style><table id=\"T_d89c50f8_c458_11eb_a442_18c04d314041\" ><thead>    <tr>        <th class=\"blank level0\" ></th>        <th class=\"col_heading level0 col0\" >Purchase Count</th>        <th class=\"col_heading level0 col1\" >Average Purchase Count</th>        <th class=\"col_heading level0 col2\" >Total Purchase Price</th>        <th class=\"col_heading level0 col3\" >Avg Total Purchase per Person</th>    </tr>    <tr>        <th class=\"index_name level0\" >Age</th>        <th class=\"blank\" ></th>        <th class=\"blank\" ></th>        <th class=\"blank\" ></th>        <th class=\"blank\" ></th>    </tr></thead><tbody>\n",
       "                <tr>\n",
       "                        <th id=\"T_d89c50f8_c458_11eb_a442_18c04d314041level0_row0\" class=\"row_heading level0 row0\" ><10</th>\n",
       "                        <td id=\"T_d89c50f8_c458_11eb_a442_18c04d314041row0_col0\" class=\"data row0 col0\" >23.000000</td>\n",
       "                        <td id=\"T_d89c50f8_c458_11eb_a442_18c04d314041row0_col1\" class=\"data row0 col1\" >3.353478</td>\n",
       "                        <td id=\"T_d89c50f8_c458_11eb_a442_18c04d314041row0_col2\" class=\"data row0 col2\" >77.130000</td>\n",
       "                        <td id=\"T_d89c50f8_c458_11eb_a442_18c04d314041row0_col3\" class=\"data row0 col3\" >4.537059</td>\n",
       "            </tr>\n",
       "            <tr>\n",
       "                        <th id=\"T_d89c50f8_c458_11eb_a442_18c04d314041level0_row1\" class=\"row_heading level0 row1\" >10-14</th>\n",
       "                        <td id=\"T_d89c50f8_c458_11eb_a442_18c04d314041row1_col0\" class=\"data row1 col0\" >28.000000</td>\n",
       "                        <td id=\"T_d89c50f8_c458_11eb_a442_18c04d314041row1_col1\" class=\"data row1 col1\" >2.956429</td>\n",
       "                        <td id=\"T_d89c50f8_c458_11eb_a442_18c04d314041row1_col2\" class=\"data row1 col2\" >82.780000</td>\n",
       "                        <td id=\"T_d89c50f8_c458_11eb_a442_18c04d314041row1_col3\" class=\"data row1 col3\" >3.762727</td>\n",
       "            </tr>\n",
       "            <tr>\n",
       "                        <th id=\"T_d89c50f8_c458_11eb_a442_18c04d314041level0_row2\" class=\"row_heading level0 row2\" >15-19</th>\n",
       "                        <td id=\"T_d89c50f8_c458_11eb_a442_18c04d314041row2_col0\" class=\"data row2 col0\" >136.000000</td>\n",
       "                        <td id=\"T_d89c50f8_c458_11eb_a442_18c04d314041row2_col1\" class=\"data row2 col1\" >3.035956</td>\n",
       "                        <td id=\"T_d89c50f8_c458_11eb_a442_18c04d314041row2_col2\" class=\"data row2 col2\" >412.890000</td>\n",
       "                        <td id=\"T_d89c50f8_c458_11eb_a442_18c04d314041row2_col3\" class=\"data row2 col3\" >3.858785</td>\n",
       "            </tr>\n",
       "            <tr>\n",
       "                        <th id=\"T_d89c50f8_c458_11eb_a442_18c04d314041level0_row3\" class=\"row_heading level0 row3\" >20-24</th>\n",
       "                        <td id=\"T_d89c50f8_c458_11eb_a442_18c04d314041row3_col0\" class=\"data row3 col0\" >365.000000</td>\n",
       "                        <td id=\"T_d89c50f8_c458_11eb_a442_18c04d314041row3_col1\" class=\"data row3 col1\" >3.052219</td>\n",
       "                        <td id=\"T_d89c50f8_c458_11eb_a442_18c04d314041row3_col2\" class=\"data row3 col2\" >1114.060000</td>\n",
       "                        <td id=\"T_d89c50f8_c458_11eb_a442_18c04d314041row3_col3\" class=\"data row3 col3\" >4.318062</td>\n",
       "            </tr>\n",
       "            <tr>\n",
       "                        <th id=\"T_d89c50f8_c458_11eb_a442_18c04d314041level0_row4\" class=\"row_heading level0 row4\" >25-29</th>\n",
       "                        <td id=\"T_d89c50f8_c458_11eb_a442_18c04d314041row4_col0\" class=\"data row4 col0\" >101.000000</td>\n",
       "                        <td id=\"T_d89c50f8_c458_11eb_a442_18c04d314041row4_col1\" class=\"data row4 col1\" >2.900990</td>\n",
       "                        <td id=\"T_d89c50f8_c458_11eb_a442_18c04d314041row4_col2\" class=\"data row4 col2\" >293.000000</td>\n",
       "                        <td id=\"T_d89c50f8_c458_11eb_a442_18c04d314041row4_col3\" class=\"data row4 col3\" >3.805195</td>\n",
       "            </tr>\n",
       "            <tr>\n",
       "                        <th id=\"T_d89c50f8_c458_11eb_a442_18c04d314041level0_row5\" class=\"row_heading level0 row5\" >30-34</th>\n",
       "                        <td id=\"T_d89c50f8_c458_11eb_a442_18c04d314041row5_col0\" class=\"data row5 col0\" >73.000000</td>\n",
       "                        <td id=\"T_d89c50f8_c458_11eb_a442_18c04d314041row5_col1\" class=\"data row5 col1\" >2.931507</td>\n",
       "                        <td id=\"T_d89c50f8_c458_11eb_a442_18c04d314041row5_col2\" class=\"data row5 col2\" >214.000000</td>\n",
       "                        <td id=\"T_d89c50f8_c458_11eb_a442_18c04d314041row5_col3\" class=\"data row5 col3\" >4.115385</td>\n",
       "            </tr>\n",
       "            <tr>\n",
       "                        <th id=\"T_d89c50f8_c458_11eb_a442_18c04d314041level0_row6\" class=\"row_heading level0 row6\" >35-39</th>\n",
       "                        <td id=\"T_d89c50f8_c458_11eb_a442_18c04d314041row6_col0\" class=\"data row6 col0\" >41.000000</td>\n",
       "                        <td id=\"T_d89c50f8_c458_11eb_a442_18c04d314041row6_col1\" class=\"data row6 col1\" >3.601707</td>\n",
       "                        <td id=\"T_d89c50f8_c458_11eb_a442_18c04d314041row6_col2\" class=\"data row6 col2\" >147.670000</td>\n",
       "                        <td id=\"T_d89c50f8_c458_11eb_a442_18c04d314041row6_col3\" class=\"data row6 col3\" >4.763548</td>\n",
       "            </tr>\n",
       "            <tr>\n",
       "                        <th id=\"T_d89c50f8_c458_11eb_a442_18c04d314041level0_row7\" class=\"row_heading level0 row7\" >40+</th>\n",
       "                        <td id=\"T_d89c50f8_c458_11eb_a442_18c04d314041row7_col0\" class=\"data row7 col0\" >13.000000</td>\n",
       "                        <td id=\"T_d89c50f8_c458_11eb_a442_18c04d314041row7_col1\" class=\"data row7 col1\" >2.941538</td>\n",
       "                        <td id=\"T_d89c50f8_c458_11eb_a442_18c04d314041row7_col2\" class=\"data row7 col2\" >38.240000</td>\n",
       "                        <td id=\"T_d89c50f8_c458_11eb_a442_18c04d314041row7_col3\" class=\"data row7 col3\" >3.186667</td>\n",
       "            </tr>\n",
       "    </tbody></table>"
      ],
      "text/plain": [
       "<pandas.io.formats.style.Styler at 0x2c22523fcd0>"
      ]
     },
     "execution_count": 7,
     "metadata": {},
     "output_type": "execute_result"
    }
   ],
   "source": [
    "\n",
    "df1 = purchase_data[['Age','Price']]\n",
    "df1['Age'] = pd.cut(x=df1['Age'], bins=[0, 9, 14, 19, 24, 29, 34, 39, 200] ,labels=['<10', '10-14', '15-19', '20-24', '25-29', '30-34', '35-39', '40+'])\n",
    "df2 = df1\n",
    "\n",
    "# purchase count\n",
    "df_count = df2.groupby('Age').agg({'Price':'mean', 'Price':'count'})\n",
    "df_count.rename(columns={'Price':'Purchase_Count'}, inplace=True)\n",
    "# df_count.head()\n",
    "\n",
    "# average of price\n",
    "df_average = df2.groupby(['Age']).mean()\n",
    "df_average.rename(columns={'Price': 'Average_Purchase_Count'}, inplace=True)\n",
    "\n",
    "# purchase total per person\n",
    "df_new = purchase_data[['Age','SN', 'Price']]\n",
    "df_new['Age'] = pd.cut(x=df_new['Age'], bins=[0, 9, 14, 19, 24, 29, 34, 39, 200] ,labels=['<10', '10-14', '15-19', '20-24', '25-29', '30-34', '35-39', '40+'])\n",
    "df_total = df_new.groupby(['Age',]).sum()\n",
    "df_total.rename(columns={'Price': 'Total_Purchase_Price'}, inplace=True)\n",
    "\n",
    "# df_total.head()\n",
    "\n",
    "# Avg Total Purchase per\n",
    "df_total_per = df_new.groupby(['Age', 'SN']).sum()\n",
    "df_avg_total = df_total_per.groupby('Age').mean()\n",
    "df_avg_total = df_avg_total.rename(columns={'Price': 'Avg_Total_Purchase_per_Person'})\n",
    "#df_avg_total.head()\n",
    "\n",
    "df_total_result = pd.DataFrame([df_count.Purchase_Count, df_average.Average_Purchase_Count, df_total.Total_Purchase_Price, df_avg_total.Avg_Total_Purchase_per_Person]).transpose()\n",
    "df_total_result.columns = [c.replace('_', ' ') for c in df_total_result.columns]\n",
    "df_total_result.style.set_properties(**{'background-color': 'black',                                                   \n",
    "                                    'color': 'lawngreen',                       \n",
    "                                    'border-color': 'white'})\n",
    "\n"
   ]
  },
  {
   "cell_type": "markdown",
   "metadata": {},
   "source": [
    "## Top Spenders"
   ]
  },
  {
   "cell_type": "markdown",
   "metadata": {},
   "source": [
    "* Run basic calculations to obtain the results in the table below\n",
    "\n",
    "\n",
    "* Create a summary data frame to hold the results\n",
    "\n",
    "\n",
    "* Sort the total purchase value column in descending order\n",
    "\n",
    "\n",
    "* Optional: give the displayed data cleaner formatting\n",
    "\n",
    "\n",
    "* Display a preview of the summary data frame\n",
    "\n"
   ]
  },
  {
   "cell_type": "code",
   "execution_count": 8,
   "metadata": {},
   "outputs": [
    {
     "data": {
      "text/html": [
       "<style  type=\"text/css\" >\n",
       "#T_d910c645_c458_11eb_b043_18c04d314041row0_col0,#T_d910c645_c458_11eb_b043_18c04d314041row0_col1,#T_d910c645_c458_11eb_b043_18c04d314041row0_col2,#T_d910c645_c458_11eb_b043_18c04d314041row1_col0,#T_d910c645_c458_11eb_b043_18c04d314041row1_col1,#T_d910c645_c458_11eb_b043_18c04d314041row1_col2,#T_d910c645_c458_11eb_b043_18c04d314041row2_col0,#T_d910c645_c458_11eb_b043_18c04d314041row2_col1,#T_d910c645_c458_11eb_b043_18c04d314041row2_col2,#T_d910c645_c458_11eb_b043_18c04d314041row3_col0,#T_d910c645_c458_11eb_b043_18c04d314041row3_col1,#T_d910c645_c458_11eb_b043_18c04d314041row3_col2,#T_d910c645_c458_11eb_b043_18c04d314041row4_col0,#T_d910c645_c458_11eb_b043_18c04d314041row4_col1,#T_d910c645_c458_11eb_b043_18c04d314041row4_col2{\n",
       "            background-color:  black;\n",
       "            color:  lawngreen;\n",
       "            border-color:  white;\n",
       "        }</style><table id=\"T_d910c645_c458_11eb_b043_18c04d314041\" ><thead>    <tr>        <th class=\"blank level0\" ></th>        <th class=\"col_heading level0 col0\" >Purchase_Count</th>        <th class=\"col_heading level0 col1\" >Avg_Pur_Price</th>        <th class=\"col_heading level0 col2\" >Avg_sum_Price</th>    </tr>    <tr>        <th class=\"index_name level0\" >SN</th>        <th class=\"blank\" ></th>        <th class=\"blank\" ></th>        <th class=\"blank\" ></th>    </tr></thead><tbody>\n",
       "                <tr>\n",
       "                        <th id=\"T_d910c645_c458_11eb_b043_18c04d314041level0_row0\" class=\"row_heading level0 row0\" >Lisosia93</th>\n",
       "                        <td id=\"T_d910c645_c458_11eb_b043_18c04d314041row0_col0\" class=\"data row0 col0\" >5.000000</td>\n",
       "                        <td id=\"T_d910c645_c458_11eb_b043_18c04d314041row0_col1\" class=\"data row0 col1\" >3.792000</td>\n",
       "                        <td id=\"T_d910c645_c458_11eb_b043_18c04d314041row0_col2\" class=\"data row0 col2\" >18.960000</td>\n",
       "            </tr>\n",
       "            <tr>\n",
       "                        <th id=\"T_d910c645_c458_11eb_b043_18c04d314041level0_row1\" class=\"row_heading level0 row1\" >Idastidru52</th>\n",
       "                        <td id=\"T_d910c645_c458_11eb_b043_18c04d314041row1_col0\" class=\"data row1 col0\" >4.000000</td>\n",
       "                        <td id=\"T_d910c645_c458_11eb_b043_18c04d314041row1_col1\" class=\"data row1 col1\" >3.862500</td>\n",
       "                        <td id=\"T_d910c645_c458_11eb_b043_18c04d314041row1_col2\" class=\"data row1 col2\" >15.450000</td>\n",
       "            </tr>\n",
       "            <tr>\n",
       "                        <th id=\"T_d910c645_c458_11eb_b043_18c04d314041level0_row2\" class=\"row_heading level0 row2\" >Chamjask73</th>\n",
       "                        <td id=\"T_d910c645_c458_11eb_b043_18c04d314041row2_col0\" class=\"data row2 col0\" >3.000000</td>\n",
       "                        <td id=\"T_d910c645_c458_11eb_b043_18c04d314041row2_col1\" class=\"data row2 col1\" >4.610000</td>\n",
       "                        <td id=\"T_d910c645_c458_11eb_b043_18c04d314041row2_col2\" class=\"data row2 col2\" >13.830000</td>\n",
       "            </tr>\n",
       "            <tr>\n",
       "                        <th id=\"T_d910c645_c458_11eb_b043_18c04d314041level0_row3\" class=\"row_heading level0 row3\" >Iral74</th>\n",
       "                        <td id=\"T_d910c645_c458_11eb_b043_18c04d314041row3_col0\" class=\"data row3 col0\" >4.000000</td>\n",
       "                        <td id=\"T_d910c645_c458_11eb_b043_18c04d314041row3_col1\" class=\"data row3 col1\" >3.405000</td>\n",
       "                        <td id=\"T_d910c645_c458_11eb_b043_18c04d314041row3_col2\" class=\"data row3 col2\" >13.620000</td>\n",
       "            </tr>\n",
       "            <tr>\n",
       "                        <th id=\"T_d910c645_c458_11eb_b043_18c04d314041level0_row4\" class=\"row_heading level0 row4\" >Iskadarya95</th>\n",
       "                        <td id=\"T_d910c645_c458_11eb_b043_18c04d314041row4_col0\" class=\"data row4 col0\" >3.000000</td>\n",
       "                        <td id=\"T_d910c645_c458_11eb_b043_18c04d314041row4_col1\" class=\"data row4 col1\" >4.366667</td>\n",
       "                        <td id=\"T_d910c645_c458_11eb_b043_18c04d314041row4_col2\" class=\"data row4 col2\" >13.100000</td>\n",
       "            </tr>\n",
       "    </tbody></table>"
      ],
      "text/plain": [
       "<pandas.io.formats.style.Styler at 0x2c225172490>"
      ]
     },
     "execution_count": 8,
     "metadata": {},
     "output_type": "execute_result"
    }
   ],
   "source": [
    "#get data and purchase count\n",
    "top_spenders = purchase_data[['SN','Price']]\n",
    "Purchase_Count = top_spenders.groupby('SN').count()\n",
    "Purchase_Count.rename(columns={'Price':'Purchase_Count'}, inplace=True)\n",
    "\n",
    "#get avg purchase rpice\n",
    "Avg_Pur_Price = top_spenders.groupby('SN').mean()\n",
    "Avg_Pur_Price.rename(columns={'Price':'Avg_Pur_Price'}, inplace=True)\n",
    "\n",
    "#get sum price\n",
    "Avg_sum_Price = top_spenders.groupby('SN').sum()\n",
    "Avg_sum_Price.rename(columns={'Price':'Avg_sum_Price'}, inplace=True)\n",
    "\n",
    "#paste them and format\n",
    "top_spenders = pd.DataFrame([Purchase_Count.Purchase_Count, Avg_Pur_Price.Avg_Pur_Price, Avg_sum_Price.Avg_sum_Price]).transpose()\n",
    "top_spenders = top_spenders.sort_values(by='Avg_sum_Price',ascending=False)\n",
    "top_spenders.head().style.set_properties(**{'background-color': 'black','color': 'lawngreen','border-color': 'white'})"
   ]
  },
  {
   "cell_type": "markdown",
   "metadata": {},
   "source": [
    "## Most Popular Items"
   ]
  },
  {
   "cell_type": "markdown",
   "metadata": {},
   "source": [
    "* Retrieve the Item ID, Item Name, and Item Price columns\n",
    "\n",
    "\n",
    "* Group by Item ID and Item Name. Perform calculations to obtain purchase count, average item price, and total purchase value\n",
    "\n",
    "\n",
    "* Create a summary data frame to hold the results\n",
    "\n",
    "\n",
    "* Sort the purchase count column in descending order\n",
    "\n",
    "\n",
    "* Optional: give the displayed data cleaner formatting\n",
    "\n",
    "\n",
    "* Display a preview of the summary data frame\n",
    "\n"
   ]
  },
  {
   "cell_type": "code",
   "execution_count": 9,
   "metadata": {},
   "outputs": [
    {
     "data": {
      "text/html": [
       "<style  type=\"text/css\" >\n",
       "#T_d9850650_c458_11eb_8c1d_18c04d314041row0_col0,#T_d9850650_c458_11eb_8c1d_18c04d314041row0_col1,#T_d9850650_c458_11eb_8c1d_18c04d314041row0_col2,#T_d9850650_c458_11eb_8c1d_18c04d314041row1_col0,#T_d9850650_c458_11eb_8c1d_18c04d314041row1_col1,#T_d9850650_c458_11eb_8c1d_18c04d314041row1_col2,#T_d9850650_c458_11eb_8c1d_18c04d314041row2_col0,#T_d9850650_c458_11eb_8c1d_18c04d314041row2_col1,#T_d9850650_c458_11eb_8c1d_18c04d314041row2_col2,#T_d9850650_c458_11eb_8c1d_18c04d314041row3_col0,#T_d9850650_c458_11eb_8c1d_18c04d314041row3_col1,#T_d9850650_c458_11eb_8c1d_18c04d314041row3_col2,#T_d9850650_c458_11eb_8c1d_18c04d314041row4_col0,#T_d9850650_c458_11eb_8c1d_18c04d314041row4_col1,#T_d9850650_c458_11eb_8c1d_18c04d314041row4_col2{\n",
       "            background-color:  black;\n",
       "            color:  lawngreen;\n",
       "            border-color:  white;\n",
       "        }</style><table id=\"T_d9850650_c458_11eb_8c1d_18c04d314041\" ><thead>    <tr>        <th class=\"blank\" ></th>        <th class=\"blank level0\" ></th>        <th class=\"col_heading level0 col0\" >Purchase_Count</th>        <th class=\"col_heading level0 col1\" >Item_Price</th>        <th class=\"col_heading level0 col2\" >Total_Value</th>    </tr>    <tr>        <th class=\"index_name level0\" >Item_ID</th>        <th class=\"index_name level1\" >Item_Name</th>        <th class=\"blank\" ></th>        <th class=\"blank\" ></th>        <th class=\"blank\" ></th>    </tr></thead><tbody>\n",
       "                <tr>\n",
       "                        <th id=\"T_d9850650_c458_11eb_8c1d_18c04d314041level0_row0\" class=\"row_heading level0 row0\" >92</th>\n",
       "                        <th id=\"T_d9850650_c458_11eb_8c1d_18c04d314041level1_row0\" class=\"row_heading level1 row0\" >Final Critic</th>\n",
       "                        <td id=\"T_d9850650_c458_11eb_8c1d_18c04d314041row0_col0\" class=\"data row0 col0\" >13.000000</td>\n",
       "                        <td id=\"T_d9850650_c458_11eb_8c1d_18c04d314041row0_col1\" class=\"data row0 col1\" >4.880000</td>\n",
       "                        <td id=\"T_d9850650_c458_11eb_8c1d_18c04d314041row0_col2\" class=\"data row0 col2\" >59.990000</td>\n",
       "            </tr>\n",
       "            <tr>\n",
       "                        <th id=\"T_d9850650_c458_11eb_8c1d_18c04d314041level0_row1\" class=\"row_heading level0 row1\" >178</th>\n",
       "                        <th id=\"T_d9850650_c458_11eb_8c1d_18c04d314041level1_row1\" class=\"row_heading level1 row1\" >Oathbreaker, Last Hope of the Breaking Storm</th>\n",
       "                        <td id=\"T_d9850650_c458_11eb_8c1d_18c04d314041row1_col0\" class=\"data row1 col0\" >12.000000</td>\n",
       "                        <td id=\"T_d9850650_c458_11eb_8c1d_18c04d314041row1_col1\" class=\"data row1 col1\" >4.230000</td>\n",
       "                        <td id=\"T_d9850650_c458_11eb_8c1d_18c04d314041row1_col2\" class=\"data row1 col2\" >50.760000</td>\n",
       "            </tr>\n",
       "            <tr>\n",
       "                        <th id=\"T_d9850650_c458_11eb_8c1d_18c04d314041level0_row2\" class=\"row_heading level0 row2\" >145</th>\n",
       "                        <th id=\"T_d9850650_c458_11eb_8c1d_18c04d314041level1_row2\" class=\"row_heading level1 row2\" >Fiery Glass Crusader</th>\n",
       "                        <td id=\"T_d9850650_c458_11eb_8c1d_18c04d314041row2_col0\" class=\"data row2 col0\" >9.000000</td>\n",
       "                        <td id=\"T_d9850650_c458_11eb_8c1d_18c04d314041row2_col1\" class=\"data row2 col1\" >4.580000</td>\n",
       "                        <td id=\"T_d9850650_c458_11eb_8c1d_18c04d314041row2_col2\" class=\"data row2 col2\" >41.220000</td>\n",
       "            </tr>\n",
       "            <tr>\n",
       "                        <th id=\"T_d9850650_c458_11eb_8c1d_18c04d314041level0_row3\" class=\"row_heading level0 row3\" >132</th>\n",
       "                        <th id=\"T_d9850650_c458_11eb_8c1d_18c04d314041level1_row3\" class=\"row_heading level1 row3\" >Persuasion</th>\n",
       "                        <td id=\"T_d9850650_c458_11eb_8c1d_18c04d314041row3_col0\" class=\"data row3 col0\" >9.000000</td>\n",
       "                        <td id=\"T_d9850650_c458_11eb_8c1d_18c04d314041row3_col1\" class=\"data row3 col1\" >3.190000</td>\n",
       "                        <td id=\"T_d9850650_c458_11eb_8c1d_18c04d314041row3_col2\" class=\"data row3 col2\" >28.990000</td>\n",
       "            </tr>\n",
       "            <tr>\n",
       "                        <th id=\"T_d9850650_c458_11eb_8c1d_18c04d314041level0_row4\" class=\"row_heading level0 row4\" >108</th>\n",
       "                        <th id=\"T_d9850650_c458_11eb_8c1d_18c04d314041level1_row4\" class=\"row_heading level1 row4\" >Extraction, Quickblade Of Trembling Hands</th>\n",
       "                        <td id=\"T_d9850650_c458_11eb_8c1d_18c04d314041row4_col0\" class=\"data row4 col0\" >9.000000</td>\n",
       "                        <td id=\"T_d9850650_c458_11eb_8c1d_18c04d314041row4_col1\" class=\"data row4 col1\" >3.530000</td>\n",
       "                        <td id=\"T_d9850650_c458_11eb_8c1d_18c04d314041row4_col2\" class=\"data row4 col2\" >31.770000</td>\n",
       "            </tr>\n",
       "    </tbody></table>"
      ],
      "text/plain": [
       "<pandas.io.formats.style.Styler at 0x2c221fab970>"
      ]
     },
     "execution_count": 9,
     "metadata": {},
     "output_type": "execute_result"
    }
   ],
   "source": [
    "#get data\n",
    "Popular_Items = purchase_data[['Item_ID','Item_Name','Price']]\n",
    "#get purchase count\n",
    "Purchase_Count = Popular_Items.groupby(['Item_ID','Item_Name']).count()\n",
    "Purchase_Count.rename(columns={'Price':'Purchase_Count'}, inplace=True)\n",
    "#get item price\n",
    "Item_Price = Popular_Items.groupby(['Item_ID','Item_Name']).first()\n",
    "Item_Price.rename(columns={'Price':'Item_Price'}, inplace=True)\n",
    "#get total vlaue\n",
    "Total_Value = Popular_Items.groupby(['Item_ID','Item_Name']).sum()\n",
    "Total_Value.rename(columns={'Price':'Total_Value'}, inplace=True)\n",
    "#paste all of the value togther format and sort \n",
    "Popular_Items = pd.DataFrame([Purchase_Count.Purchase_Count, Item_Price.Item_Price, Total_Value.Total_Value]).transpose()\n",
    "Popular_Items = Popular_Items.sort_values(by='Purchase_Count',ascending=False)\n",
    "Popular_Items.head(5).style.set_properties(**{'background-color': 'black',                                                   \n",
    "                                    'color': 'lawngreen',                       \n",
    "                                    'border-color': 'white'})\n"
   ]
  },
  {
   "cell_type": "markdown",
   "metadata": {},
   "source": [
    "## Most Profitable Items"
   ]
  },
  {
   "cell_type": "markdown",
   "metadata": {},
   "source": [
    "* Sort the above table by total purchase value in descending order\n",
    "\n",
    "\n",
    "* Optional: give the displayed data cleaner formatting\n",
    "\n",
    "\n",
    "* Display a preview of the data frame\n",
    "\n"
   ]
  },
  {
   "cell_type": "code",
   "execution_count": 10,
   "metadata": {
    "scrolled": true
   },
   "outputs": [
    {
     "data": {
      "text/html": [
       "<style  type=\"text/css\" >\n",
       "#T_d9f06395_c458_11eb_9dd7_18c04d314041row0_col0,#T_d9f06395_c458_11eb_9dd7_18c04d314041row0_col1,#T_d9f06395_c458_11eb_9dd7_18c04d314041row0_col2,#T_d9f06395_c458_11eb_9dd7_18c04d314041row1_col0,#T_d9f06395_c458_11eb_9dd7_18c04d314041row1_col1,#T_d9f06395_c458_11eb_9dd7_18c04d314041row1_col2,#T_d9f06395_c458_11eb_9dd7_18c04d314041row2_col0,#T_d9f06395_c458_11eb_9dd7_18c04d314041row2_col1,#T_d9f06395_c458_11eb_9dd7_18c04d314041row2_col2,#T_d9f06395_c458_11eb_9dd7_18c04d314041row3_col0,#T_d9f06395_c458_11eb_9dd7_18c04d314041row3_col1,#T_d9f06395_c458_11eb_9dd7_18c04d314041row3_col2,#T_d9f06395_c458_11eb_9dd7_18c04d314041row4_col0,#T_d9f06395_c458_11eb_9dd7_18c04d314041row4_col1,#T_d9f06395_c458_11eb_9dd7_18c04d314041row4_col2{\n",
       "            background-color:  black;\n",
       "            color:  lawngreen;\n",
       "            border-color:  white;\n",
       "        }</style><table id=\"T_d9f06395_c458_11eb_9dd7_18c04d314041\" ><thead>    <tr>        <th class=\"blank\" ></th>        <th class=\"blank level0\" ></th>        <th class=\"col_heading level0 col0\" >Purchase_Count</th>        <th class=\"col_heading level0 col1\" >Item_Price</th>        <th class=\"col_heading level0 col2\" >Total_Value</th>    </tr>    <tr>        <th class=\"index_name level0\" >Item_ID</th>        <th class=\"index_name level1\" >Item_Name</th>        <th class=\"blank\" ></th>        <th class=\"blank\" ></th>        <th class=\"blank\" ></th>    </tr></thead><tbody>\n",
       "                <tr>\n",
       "                        <th id=\"T_d9f06395_c458_11eb_9dd7_18c04d314041level0_row0\" class=\"row_heading level0 row0\" >92</th>\n",
       "                        <th id=\"T_d9f06395_c458_11eb_9dd7_18c04d314041level1_row0\" class=\"row_heading level1 row0\" >Final Critic</th>\n",
       "                        <td id=\"T_d9f06395_c458_11eb_9dd7_18c04d314041row0_col0\" class=\"data row0 col0\" >13.000000</td>\n",
       "                        <td id=\"T_d9f06395_c458_11eb_9dd7_18c04d314041row0_col1\" class=\"data row0 col1\" >4.880000</td>\n",
       "                        <td id=\"T_d9f06395_c458_11eb_9dd7_18c04d314041row0_col2\" class=\"data row0 col2\" >59.990000</td>\n",
       "            </tr>\n",
       "            <tr>\n",
       "                        <th id=\"T_d9f06395_c458_11eb_9dd7_18c04d314041level0_row1\" class=\"row_heading level0 row1\" >178</th>\n",
       "                        <th id=\"T_d9f06395_c458_11eb_9dd7_18c04d314041level1_row1\" class=\"row_heading level1 row1\" >Oathbreaker, Last Hope of the Breaking Storm</th>\n",
       "                        <td id=\"T_d9f06395_c458_11eb_9dd7_18c04d314041row1_col0\" class=\"data row1 col0\" >12.000000</td>\n",
       "                        <td id=\"T_d9f06395_c458_11eb_9dd7_18c04d314041row1_col1\" class=\"data row1 col1\" >4.230000</td>\n",
       "                        <td id=\"T_d9f06395_c458_11eb_9dd7_18c04d314041row1_col2\" class=\"data row1 col2\" >50.760000</td>\n",
       "            </tr>\n",
       "            <tr>\n",
       "                        <th id=\"T_d9f06395_c458_11eb_9dd7_18c04d314041level0_row2\" class=\"row_heading level0 row2\" >82</th>\n",
       "                        <th id=\"T_d9f06395_c458_11eb_9dd7_18c04d314041level1_row2\" class=\"row_heading level1 row2\" >Nirvana</th>\n",
       "                        <td id=\"T_d9f06395_c458_11eb_9dd7_18c04d314041row2_col0\" class=\"data row2 col0\" >9.000000</td>\n",
       "                        <td id=\"T_d9f06395_c458_11eb_9dd7_18c04d314041row2_col1\" class=\"data row2 col1\" >4.900000</td>\n",
       "                        <td id=\"T_d9f06395_c458_11eb_9dd7_18c04d314041row2_col2\" class=\"data row2 col2\" >44.100000</td>\n",
       "            </tr>\n",
       "            <tr>\n",
       "                        <th id=\"T_d9f06395_c458_11eb_9dd7_18c04d314041level0_row3\" class=\"row_heading level0 row3\" >145</th>\n",
       "                        <th id=\"T_d9f06395_c458_11eb_9dd7_18c04d314041level1_row3\" class=\"row_heading level1 row3\" >Fiery Glass Crusader</th>\n",
       "                        <td id=\"T_d9f06395_c458_11eb_9dd7_18c04d314041row3_col0\" class=\"data row3 col0\" >9.000000</td>\n",
       "                        <td id=\"T_d9f06395_c458_11eb_9dd7_18c04d314041row3_col1\" class=\"data row3 col1\" >4.580000</td>\n",
       "                        <td id=\"T_d9f06395_c458_11eb_9dd7_18c04d314041row3_col2\" class=\"data row3 col2\" >41.220000</td>\n",
       "            </tr>\n",
       "            <tr>\n",
       "                        <th id=\"T_d9f06395_c458_11eb_9dd7_18c04d314041level0_row4\" class=\"row_heading level0 row4\" >103</th>\n",
       "                        <th id=\"T_d9f06395_c458_11eb_9dd7_18c04d314041level1_row4\" class=\"row_heading level1 row4\" >Singed Scalpel</th>\n",
       "                        <td id=\"T_d9f06395_c458_11eb_9dd7_18c04d314041row4_col0\" class=\"data row4 col0\" >8.000000</td>\n",
       "                        <td id=\"T_d9f06395_c458_11eb_9dd7_18c04d314041row4_col1\" class=\"data row4 col1\" >4.350000</td>\n",
       "                        <td id=\"T_d9f06395_c458_11eb_9dd7_18c04d314041row4_col2\" class=\"data row4 col2\" >34.800000</td>\n",
       "            </tr>\n",
       "    </tbody></table>"
      ],
      "text/plain": [
       "<pandas.io.formats.style.Styler at 0x2c22526c6d0>"
      ]
     },
     "execution_count": 10,
     "metadata": {},
     "output_type": "execute_result"
    }
   ],
   "source": [
    "#show most popular items \n",
    "Popular_Items = Popular_Items.sort_values(by='Total_Value',ascending=False)\n",
    "Popular_Items.head(5).style.set_properties(**{'background-color': 'black',                                                   \n",
    "                                    'color': 'lawngreen',                       \n",
    "                                    'border-color': 'white'})"
   ]
  },
  {
   "cell_type": "code",
   "execution_count": null,
   "metadata": {},
   "outputs": [],
   "source": []
  },
  {
   "cell_type": "code",
   "execution_count": null,
   "metadata": {},
   "outputs": [],
   "source": []
  },
  {
   "cell_type": "code",
   "execution_count": null,
   "metadata": {},
   "outputs": [],
   "source": []
  }
 ],
 "metadata": {
  "anaconda-cloud": {},
  "kernel_info": {
   "name": "python3"
  },
  "kernelspec": {
   "display_name": "Python 3",
   "language": "python",
   "name": "python3"
  },
  "language_info": {
   "codemirror_mode": {
    "name": "ipython",
    "version": 3
   },
   "file_extension": ".py",
   "mimetype": "text/x-python",
   "name": "python",
   "nbconvert_exporter": "python",
   "pygments_lexer": "ipython3",
   "version": "3.8.5"
  },
  "latex_envs": {
   "LaTeX_envs_menu_present": true,
   "autoclose": false,
   "autocomplete": true,
   "bibliofile": "biblio.bib",
   "cite_by": "apalike",
   "current_citInitial": 1,
   "eqLabelWithNumbers": true,
   "eqNumInitial": 1,
   "hotkeys": {
    "equation": "Ctrl-E",
    "itemize": "Ctrl-I"
   },
   "labels_anchors": false,
   "latex_user_defs": false,
   "report_style_numbering": false,
   "user_envs_cfg": false
  },
  "nteract": {
   "version": "0.2.0"
  }
 },
 "nbformat": 4,
 "nbformat_minor": 4
}
